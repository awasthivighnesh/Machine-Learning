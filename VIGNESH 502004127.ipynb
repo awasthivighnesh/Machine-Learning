{
 "cells": [
  {
   "cell_type": "markdown",
   "metadata": {},
   "source": [
    "# VIGNESH AWASTHI 502004127"
   ]
  },
  {
   "cell_type": "code",
   "execution_count": 1,
   "metadata": {},
   "outputs": [
    {
     "data": {
      "image/png": "[encoded data removed]",
      "text/plain": [
       "<Figure size 432x288 with 1 Axes>"
      ]
     },
     "metadata": {
      "needs_background": "light"
     },
     "output_type": "display_data"
    }
   ],
   "source": [
    "import matplotlib.pyplot as plt\n",
    "import numpy as np\n",
    "\n",
    "x= [10.0,20.0,30.0]\n",
    "y1 = [60,20,50]\n",
    "y2 = [20,60,20]\n",
    "plt.plot(x,y1,color=\"Red\",label=\"China\")\n",
    "plt.plot(x,y2,color=\"Blue\",label = \"India\")\n",
    "plt.legend()\n",
    "plt.title(\"Growth Rate vs Area \")\n",
    "plt.xlabel(\"Growth Rate\")\n",
    "plt.ylabel(\"Area\")\n",
    "plt.show()"
   ]
  },
  {
   "cell_type": "code",
   "execution_count": 5,
   "metadata": {},
   "outputs": [
    {
     "name": "stdout",
     "output_type": "stream",
     "text": [
      "The first array ARR1 is given as:\n",
      " [[ 5  6  7]\n",
      " [ 8  9 10]\n",
      " [11 12 13]\n",
      " [14 15 16]\n",
      " [17 18 19]\n",
      " [20 21 22]\n",
      " [23 24 25]\n",
      " [26 27 28]\n",
      " [29 30 31]]\n",
      "The second array ARR2 is given as:\n",
      " [[24 26 28]\n",
      " [30 32 34]\n",
      " [36 38 40]\n",
      " [42 44 46]\n",
      " [48 50 52]\n",
      " [54 56 58]\n",
      " [60 62 64]\n",
      " [66 68 70]\n",
      " [72 74 76]]\n"
     ]
    }
   ],
   "source": [
    "array1 = np.arange(5,32)\n",
    "ARR1 = ARRA.reshape(9,3)\n",
    "print(\"The first array ARR1 is given as:\\n\",ARR1)\n",
    "\n",
    "array2 = np.arange(24,77,2)\n",
    "ARR2 = ARRB.reshape(9,3)\n",
    "print(\"The second array ARR2 is given as:\\n\",ARR2)"
   ]
  },
  {
   "cell_type": "code",
   "execution_count": 7,
   "metadata": {},
   "outputs": [
    {
     "name": "stdout",
     "output_type": "stream",
     "text": [
      "[[1 3 5]\n",
      " [7 6 9]\n",
      " [3 5 8]]\n",
      "[[1 3 5]\n",
      " [7 6 9]\n",
      " [9 5 8]\n",
      " [1 3 6]]\n"
     ]
    },
    {
     "ename": "ValueError",
     "evalue": "operands could not be broadcast together with shapes (3,3) (4,3) ",
     "output_type": "error",
     "traceback": [
      "\u001b[1;31m---------------------------------------------------------------------------\u001b[0m",
      "\u001b[1;31mValueError\u001b[0m                                Traceback (most recent call last)",
      "\u001b[1;32m<ipython-input-7-3d20195e6f14>\u001b[0m in \u001b[0;36m<module>\u001b[1;34m\u001b[0m\n\u001b[0;32m      5\u001b[0m \u001b[0mprint\u001b[0m\u001b[1;33m(\u001b[0m\u001b[0mmatB\u001b[0m\u001b[1;33m)\u001b[0m\u001b[1;33m\u001b[0m\u001b[1;33m\u001b[0m\u001b[0m\n\u001b[0;32m      6\u001b[0m \u001b[1;33m\u001b[0m\u001b[0m\n\u001b[1;32m----> 7\u001b[1;33m \u001b[0mprint\u001b[0m\u001b[1;33m(\u001b[0m\u001b[1;34m'addition of two matrix is :\\n'\u001b[0m\u001b[1;33m,\u001b[0m \u001b[0mmatA\u001b[0m \u001b[1;33m+\u001b[0m \u001b[0mmatB\u001b[0m\u001b[1;33m)\u001b[0m\u001b[1;33m\u001b[0m\u001b[1;33m\u001b[0m\u001b[0m\n\u001b[0m\u001b[0;32m      8\u001b[0m \u001b[1;33m\u001b[0m\u001b[0m\n\u001b[0;32m      9\u001b[0m \u001b[0mprint\u001b[0m\u001b[1;33m(\u001b[0m\u001b[1;34m'Substraction of two matrix is :\\n'\u001b[0m\u001b[1;33m,\u001b[0m \u001b[0mmatA\u001b[0m \u001b[1;33m-\u001b[0m \u001b[0mmatB\u001b[0m\u001b[1;33m)\u001b[0m\u001b[1;33m\u001b[0m\u001b[1;33m\u001b[0m\u001b[0m\n",
      "\u001b[1;31mValueError\u001b[0m: operands could not be broadcast together with shapes (3,3) (4,3) "
     ]
    }
   ],
   "source": [
    "matA = np.array([[1,3,5],[7,6,9],[3,5,8]])\n",
    "matB = np.array([[1,3,5],[7,6,9],[9,5,8],[1,3,6]])\n",
    "\n",
    "print(matA)\n",
    "print(matB)\n",
    "\n",
    "print('addition of two matrix is :\\n', matA + matB)\n",
    "\n",
    "print('Substraction of two matrix is :\\n', matA - matB)\n",
    "\n",
    "print(np.dot(matA, matB))"
   ]
  },
  {
   "cell_type": "code",
   "execution_count": 2,
   "metadata": {},
   "outputs": [
    {
     "name": "stdout",
     "output_type": "stream",
     "text": [
      "Enter student 1 Name: vignesh\n",
      "Enter student 1 id: 1\n",
      "Enter student 2 Name: babit\n",
      "Enter student 2 id: 2\n",
      "Enter student 3 Name: deepanshu\n",
      "Enter student 3 id: 3\n",
      "Enter student 4 Name: akshat\n",
      "Enter student 4 id: 4\n",
      "Enter student 5 Name: mahak\n",
      "Enter student 5 id: 5\n",
      "Enter student 6 Name: swati\n",
      "Enter student 6 id: 6\n",
      "['vignesh', 'babit', 'deepanshu', 'akshat', 'mahak', 'swati']\n",
      "['1', '2', '3', '4', '5', '6']\n",
      "student details: {'vignesh': '1', 'babit': '2', 'deepanshu': '3', 'akshat': '4', 'mahak': '5', 'swati': '6'}\n"
     ]
    }
   ],
   "source": [
    "list1 = []\n",
    "list2 = []\n",
    "database = {}\n",
    "for x in range(6):\n",
    "    Name = input(\"Enter student \" + str(x+1) + \" Name: \")\n",
    "    roll_id = input(\"Enter student \" + str(x+1) +\" id: \")\n",
    "    list1.append(Name)\n",
    "    list2.append(roll_id)\n",
    "    \n",
    "print(list1)\n",
    "print(list2)\n",
    "\n",
    "for i in range(len(list1)):\n",
    "    database.update({list1[i]:list2[i]})\n",
    "print(\"student details:\", database)"
   ]
  },
  {
   "cell_type": "code",
   "execution_count": null,
   "metadata": {},
   "outputs": [],
   "source": []
  }
 ],
 "metadata": {
  "kernelspec": {
   "display_name": "Python 3",
   "language": "python",
   "name": "python3"
  },
  "language_info": {
   "codemirror_mode": {
    "name": "ipython",
    "version": 3
   },
   "file_extension": ".py",
   "mimetype": "text/x-python",
   "name": "python",
   "nbconvert_exporter": "python",
   "pygments_lexer": "ipython3",
   "version": "3.7.6"
  }
 },
 "nbformat": 4,
 "nbformat_minor": 4
}
